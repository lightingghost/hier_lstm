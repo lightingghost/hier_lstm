{
 "cells": [
  {
   "cell_type": "code",
   "execution_count": 1,
   "metadata": {
    "collapsed": true
   },
   "outputs": [],
   "source": [
    "import json\n",
    "import sys\n",
    "import nltk\n",
    "import pickle\n",
    "from collections import defaultdict\n",
    "import numpy as np\n"
   ]
  },
  {
   "cell_type": "code",
   "execution_count": 2,
   "metadata": {
    "collapsed": true
   },
   "outputs": [],
   "source": [
    "def build_vocab(fin, num=sys.maxsize, drop_off=10):\n",
    "    import itertools\n",
    "    i = 1\n",
    "    word_count = defaultdict(int)\n",
    "    title_count = defaultdict(int)\n",
    "    for line in fin:\n",
    "        article = json.loads(line)\n",
    "        sents = article['content']\n",
    "        title = article['title']\n",
    "        for sent in sents:\n",
    "            words = nltk.word_tokenize(sent)\n",
    "            for word in words:\n",
    "                word_count[word] += 1\n",
    "        for word in nltk.word_tokenize(title):\n",
    "            title_count[word] += 1 \n",
    "\n",
    "        print('Processed: ' + str(i), end='\\r')\n",
    "        i += 1\n",
    "        if i > num:\n",
    "            break\n",
    "    return word_count, title_count"
   ]
  },
  {
   "cell_type": "code",
   "execution_count": 5,
   "metadata": {
    "collapsed": true
   },
   "outputs": [],
   "source": [
    "fin = open('sample_short', 'r')"
   ]
  },
  {
   "cell_type": "code",
   "execution_count": 6,
   "metadata": {
    "collapsed": false
   },
   "outputs": [
    {
     "name": "stdout",
     "output_type": "stream",
     "text": []
    }
   ],
   "source": [
    "word_count, title_count = build_vocab(fin)"
   ]
  },
  {
   "cell_type": "code",
   "execution_count": 15,
   "metadata": {
    "collapsed": false
   },
   "outputs": [],
   "source": [
    "idx2word = dict()\n",
    "word2idx = dict()\n",
    "idx = 1\n",
    "for k, v in title_count.items():\n",
    "    if v > 5:\n",
    "        word2idx[k] = idx\n",
    "        idx2word[idx] = k\n",
    "        idx += 1\n",
    "for k, v in word_count.items():\n",
    "    if v > 20 and not k in word2idx:\n",
    "        word2idx[k] = idx\n",
    "        idx2word[idx] = k\n",
    "        idx += 1\n"
   ]
  },
  {
   "cell_type": "code",
   "execution_count": 18,
   "metadata": {
    "collapsed": false,
    "scrolled": false
   },
   "outputs": [],
   "source": [
    "fout1 = open('word2idx', 'wb')\n",
    "fout2 = open('idx2word', 'wb')\n",
    "pickle.dump(word2idx, fout1)\n",
    "pickle.dump(idx2word, fout2)\n",
    "fout1.close()\n",
    "fout2.close()\n"
   ]
  }
 ],
 "metadata": {
  "kernelspec": {
   "display_name": "Python 3",
   "language": "python",
   "name": "python3"
  },
  "language_info": {
   "codemirror_mode": {
    "name": "ipython",
    "version": 3
   },
   "file_extension": ".py",
   "mimetype": "text/x-python",
   "name": "python",
   "nbconvert_exporter": "python",
   "pygments_lexer": "ipython3",
   "version": "3.5.1"
  }
 },
 "nbformat": 4,
 "nbformat_minor": 0
}
